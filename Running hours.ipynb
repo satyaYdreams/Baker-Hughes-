{
 "cells": [
  {
   "cell_type": "code",
   "execution_count": null,
   "metadata": {},
   "outputs": [],
   "source": [
    "import pandas as pd\n",
    "import os\n"
   ]
  },
  {
   "cell_type": "code",
   "execution_count": null,
   "metadata": {},
   "outputs": [],
   "source": [
    "\n",
    "# Function to calculate running hours\n",
    "def calculate_running_hours(file_path):\n",
    "    df = pd.read_csv(file_path)\n",
    "    ts = df[\"CMP_SPEED\"]\n",
    "    max_zeroes = 0\n",
    "    zeroes = 0\n",
    "\n",
    "    for i in range(len(ts) - 1):\n",
    "        if ts[i] == 0 and ts[i + 1] == 0:\n",
    "            zeroes += 1\n",
    "            if zeroes > max_zeroes:\n",
    "                max_zeroes = zeroes\n",
    "        else:\n",
    "            zeroes = 0\n",
    "\n",
    "    total_hours = 8760 - max_zeroes\n",
    "    return total_hours\n",
    "\n"
   ]
  },
  {
   "cell_type": "code",
   "execution_count": null,
   "metadata": {},
   "outputs": [],
   "source": [
    "# Directory containing CSV files\n",
    "directory = 'gdrive/My Drive/Baker_hughes/all_data_v2'\n",
    "\n",
    "# List to store results\n",
    "results = []\n",
    "\n",
    "# Iterate through each file in the directory\n",
    "for filename in os.listdir(directory):\n",
    "    if filename.endswith(\".csv\"):\n",
    "        file_path = os.path.join(directory, filename)\n",
    "        running_hours = calculate_running_hours(file_path)\n",
    "        results.append({'Filename': filename, 'Running Hours': running_hours})\n",
    "\n",
    "# Convert results to DataFrame\n",
    "results_df = pd.DataFrame(results)\n",
    "\n",
    "# Save results to CSV\n",
    "results_df.to_csv('running_hours.csv', index=False)\n",
    "\n"
   ]
  }
 ],
 "metadata": {
  "colab": {
   "provenance": [
    {
     "file_id": "1ztjqMNa-Vcik70T_QE_uxHUY26LQLv3u",
     "timestamp": 1665283897343
    }
   ]
  },
  "kernelspec": {
   "display_name": "Python 3 (ipykernel)",
   "language": "python",
   "name": "python3"
  },
  "language_info": {
   "codemirror_mode": {
    "name": "ipython",
    "version": 3
   },
   "file_extension": ".py",
   "mimetype": "text/x-python",
   "name": "python",
   "nbconvert_exporter": "python",
   "pygments_lexer": "ipython3",
   "version": "3.9.12"
  }
 },
 "nbformat": 4,
 "nbformat_minor": 1
}
